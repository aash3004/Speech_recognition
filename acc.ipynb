{
 "cells": [
  {
   "cell_type": "code",
   "execution_count": 14,
   "metadata": {},
   "outputs": [
    {
     "name": "stdout",
     "output_type": "stream",
     "text": [
      "Defaulting to user installation because normal site-packages is not writeable\n",
      "Requirement already satisfied: jiwer in c:\\users\\ss\\appdata\\roaming\\python\\python312\\site-packages (3.0.4)\n",
      "Requirement already satisfied: click<9.0.0,>=8.1.3 in c:\\users\\ss\\appdata\\roaming\\python\\python312\\site-packages (from jiwer) (8.1.7)\n",
      "Requirement already satisfied: rapidfuzz<4,>=3 in c:\\users\\ss\\appdata\\roaming\\python\\python312\\site-packages (from jiwer) (3.9.5)\n",
      "Requirement already satisfied: colorama in c:\\users\\ss\\appdata\\roaming\\python\\python312\\site-packages (from click<9.0.0,>=8.1.3->jiwer) (0.4.6)\n",
      "Note: you may need to restart the kernel to use updated packages.\n"
     ]
    }
   ],
   "source": [
    "pip install jiwer\n"
   ]
  },
  {
   "cell_type": "code",
   "execution_count": 40,
   "metadata": {},
   "outputs": [
    {
     "name": "stdout",
     "output_type": "stream",
     "text": [
      "Processing file: save.wav\n",
      "Ground Truth:  so if someonethank you\n",
      "Recognized Text: big I am sorry if the speech is too boring I just want to say dream big do not give a break keep working hard keep working hard it's ok so if someone is laughing at you it's ok if someone is pulling your leg pulling you back down it's ok you just keep working hard you just keep looking up the sky and reach your goals no matter what anyone else says because if you cannot protect yourself and dream for yourself nobody else can trust me I have been there done that and now I am in the process of getting there and I think you reach your dreams you make your dreams come true thank you\n",
      "Word Error Rate (WER): 29.0\n"
     ]
    }
   ],
   "source": [
    "import speech_recognition as sr\n",
    "from jiwer import wer\n",
    "\n",
    "# Initialize recognizer\n",
    "recognizer = sr.Recognizer()\n",
    "\n",
    "# Function to recognize speech from an audio file\n",
    "def recognize_speech_from_audio(file_path):\n",
    "    try:\n",
    "        print(f\"Processing file: {file_path}\")\n",
    "        with sr.AudioFile(file_path) as source:\n",
    "            recognizer.adjust_for_ambient_noise(source, duration=1)\n",
    "            audio = recognizer.record(source)\n",
    "        try:\n",
    "            text = recognizer.recognize_google(audio)\n",
    "            return text\n",
    "        except sr.UnknownValueError:\n",
    "            print(f\"Could not understand audio from {file_path}\")\n",
    "            return \"\"\n",
    "        except sr.RequestError as e:\n",
    "            print(f\"Could not request results from Google Speech Recognition service for {file_path}; {e}\")\n",
    "            return \"\"\n",
    "    except FileNotFoundError:\n",
    "        print(f\"Audio file {file_path} not found.\")\n",
    "        return \"\"\n",
    "    except Exception as e:\n",
    "        print(f\"Error processing {file_path}: {e}\")\n",
    "        return \"\"\n",
    "\n",
    "# Test with a simple known good sample\n",
    "audio_file = \"save.wav\"\n",
    "ground_truth = \" so if someonethank you\"\n",
    "\n",
    "recognized_text = recognize_speech_from_audio(audio_file)\n",
    "print(f\"Ground Truth: {ground_truth}\")\n",
    "print(f\"Recognized Text: {recognized_text}\")\n",
    "\n",
    "# Calculate and print the Word Error Rate (WER)\n",
    "error_rate = wer([ground_truth], [recognized_text])\n",
    "print(f\"Word Error Rate (WER): {error_rate}\")\n"
   ]
  }
 ],
 "metadata": {
  "kernelspec": {
   "display_name": "Python 3",
   "language": "python",
   "name": "python3"
  },
  "language_info": {
   "codemirror_mode": {
    "name": "ipython",
    "version": 3
   },
   "file_extension": ".py",
   "mimetype": "text/x-python",
   "name": "python",
   "nbconvert_exporter": "python",
   "pygments_lexer": "ipython3",
   "version": "3.12.2"
  }
 },
 "nbformat": 4,
 "nbformat_minor": 2
}
